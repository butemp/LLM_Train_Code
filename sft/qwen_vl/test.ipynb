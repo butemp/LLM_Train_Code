{
 "cells": [
  {
   "cell_type": "code",
   "execution_count": 11,
   "metadata": {},
   "outputs": [
    {
     "name": "stderr",
     "output_type": "stream",
     "text": [
      "/mnt/new_disk/czy/anaconda3/envs/llavanext/lib/python3.10/site-packages/tqdm/auto.py:21: TqdmWarning: IProgress not found. Please update jupyter and ipywidgets. See https://ipywidgets.readthedocs.io/en/stable/user_install.html\n",
      "  from .autonotebook import tqdm as notebook_tqdm\n"
     ]
    }
   ],
   "source": [
    "import json\n",
    "import torch\n",
    "import os\n",
    "import sys\n",
    "import pandas as pd\n",
    "\n",
    "\n",
    "from PIL import Image\n",
    "from typing import Dict, List, Tuple\n",
    "from torch.utils.data import Dataset\n",
    "from dataclasses import dataclass\n",
    "from transformers import AutoProcessor\n",
    "from qwen_vl_utils import process_vision_info"
   ]
  },
  {
   "cell_type": "code",
   "execution_count": 60,
   "metadata": {},
   "outputs": [],
   "source": [
    "model_dir = '/mnt/new_disk/qjw/ckpt/qwen/Qwen2-VL-7B-Instruct'\n",
    "processor = AutoProcessor.from_pretrained(model_dir,min_pixels=10, max_pixels=7840)\n",
    "messages1 = [\n",
    "    {\n",
    "        \"role\": \"user\",\n",
    "        \"content\": [\n",
    "            {\"type\": \"image\", \"image\": \"/mnt/new_disk/qjw/LLaMA-Factory/data/mire_data/images/0a856d3d-6939-4a3b-b80c-46ff0ddb324d-461-0.jpg\"},\n",
    "            {\"type\": \"text\", \"text\": \"What are the common elements in these pictures?\"},\n",
    "        ],\n",
    "    },\n",
    "    {\n",
    "        \"content\": \"They are celebrating on the soccer field.\",\n",
    "        \"role\": \"assistant\"\n",
    "    }\n",
    "]\n",
    "messages2 = [\n",
    "    {\"role\": \"user\", \"content\": [\n",
    "      {\"type\": \"image\", \"image\": \"/mnt/new_disk/qjw/LLaMA-Factory/data/mire_data/images/0b5dce3b17277072678493789d0f79-1.jpg\"}],\n",
    "    },\n",
    "]\n",
    "# Combine messages for batch processing\n",
    "messages = [messages1, messages2]\n",
    "\n",
    "# Preparation for batch inference\n",
    "texts = [\n",
    "    processor.apply_chat_template(msg, tokenize=False, add_generation_prompt=True)\n",
    "    for msg in messages\n",
    "]\n",
    "image_inputs, video_inputs = process_vision_info(messages)\n",
    "inputs = processor(\n",
    "    text=texts,\n",
    "    images=image_inputs,\n",
    "    videos=video_inputs,\n",
    "    padding=True,\n",
    "    return_tensors=\"pt\",\n",
    ")"
   ]
  },
  {
   "cell_type": "code",
   "execution_count": 64,
   "metadata": {},
   "outputs": [
    {
     "data": {
      "text/plain": [
       "tensor([[  1,  58,  26],\n",
       "        [  1, 112,  84]])"
      ]
     },
     "execution_count": 64,
     "metadata": {},
     "output_type": "execute_result"
    }
   ],
   "source": [
    "inputs.image_grid_thw"
   ]
  }
 ],
 "metadata": {
  "kernelspec": {
   "display_name": "Python 3",
   "language": "python",
   "name": "python3"
  },
  "language_info": {
   "codemirror_mode": {
    "name": "ipython",
    "version": 3
   },
   "file_extension": ".py",
   "mimetype": "text/x-python",
   "name": "python",
   "nbconvert_exporter": "python",
   "pygments_lexer": "ipython3",
   "version": "3.10.14"
  }
 },
 "nbformat": 4,
 "nbformat_minor": 2
}
